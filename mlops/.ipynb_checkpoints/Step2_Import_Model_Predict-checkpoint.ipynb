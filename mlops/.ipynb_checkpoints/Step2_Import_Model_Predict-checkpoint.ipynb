{
 "cells": [
  {
   "cell_type": "markdown",
   "id": "31b68096-99c0-4435-9115-7c75a488eea9",
   "metadata": {},
   "source": [
    "# Import Packages"
   ]
  },
  {
   "cell_type": "code",
   "execution_count": 17,
   "id": "93c0634a-c393-492d-abc1-a682c58fdde1",
   "metadata": {},
   "outputs": [],
   "source": [
    "import numpy as np\n",
    "import pandas as pd\n",
    "import pickle\n",
    "from sklearn.preprocessing import StandardScaler"
   ]
  },
  {
   "cell_type": "markdown",
   "id": "dd4c517b-4ac6-463a-bd76-4894d7cb0ac0",
   "metadata": {},
   "source": [
    "# Sample Use Input - 5 Rows of Data"
   ]
  },
  {
   "cell_type": "code",
   "execution_count": 18,
   "id": "14821fb6-b618-466e-a01d-5802b52ead96",
   "metadata": {},
   "outputs": [],
   "source": [
    "new_data = pd.DataFrame({\n",
    "    'MedInc': [2.15, 3.25, 4.6, 3.3, 6.9],\n",
    "    'HouseAge': [25, 20, 15, 38, 30],\n",
    "    'AveRooms': [5, 6, 7, 4, 8],\n",
    "    'AveBedrms': [1.1, 1.2, 1.0, 1.4, 0.9],\n",
    "    'Population': [2000, 1500, 1800, 3000, 1200],\n",
    "    'AveOccup': [2, 2.5, 2.2, 3, 1.8],\n",
    "    'Latitude': [34, 37, 36, 33, 38],\n",
    "    'Longitude': [-118, -122, -120, -117, -121]\n",
    "})"
   ]
  },
  {
   "cell_type": "markdown",
   "id": "fd6c20da-12ba-49bf-a102-1868a912a624",
   "metadata": {},
   "source": [
    "# Preprocess the input data"
   ]
  },
  {
   "cell_type": "code",
   "execution_count": 19,
   "id": "8086b59e-964c-4547-9c16-880c5b3f999f",
   "metadata": {},
   "outputs": [],
   "source": [
    "scaler = StandardScaler()\n",
    "new_data_scaled = scaler.fit_transform(new_data)"
   ]
  },
  {
   "cell_type": "markdown",
   "id": "ea28b79c-6105-4d3c-a235-f5616b63b6fb",
   "metadata": {},
   "source": [
    "# Load Model"
   ]
  },
  {
   "cell_type": "code",
   "execution_count": 14,
   "id": "fcc4d539-76db-4ef9-b255-d4145ac1be02",
   "metadata": {},
   "outputs": [],
   "source": [
    "with open(\"housing_model.pkl\", \"rb\") as file:\n",
    "    loaded_model = pickle.load(file)"
   ]
  },
  {
   "cell_type": "markdown",
   "id": "10501bc6-3057-41aa-a5b8-d09c5cfcfc85",
   "metadata": {},
   "source": [
    "# Make Predictions"
   ]
  },
  {
   "cell_type": "code",
   "execution_count": 20,
   "id": "afbb3a00-a7d5-48c3-970e-02a20f91c940",
   "metadata": {},
   "outputs": [],
   "source": [
    "predictions = loaded_model.predict(new_data_scaled)"
   ]
  },
  {
   "cell_type": "markdown",
   "id": "e5e550da-bc01-41ba-a2f1-99e29f89f92f",
   "metadata": {},
   "source": [
    "# Performance Metrics"
   ]
  },
  {
   "cell_type": "code",
   "execution_count": 21,
   "id": "5655a721-05fb-4abd-b153-a27a1f95e795",
   "metadata": {},
   "outputs": [
    {
     "name": "stdout",
     "output_type": "stream",
     "text": [
      "Predictions for the new data:\n",
      "House 1: 1.29\n",
      "House 2: 2.17\n",
      "House 3: 1.73\n",
      "House 4: 2.88\n",
      "House 5: 2.27\n"
     ]
    }
   ],
   "source": [
    "print(\"Predictions for the new data:\")\n",
    "for i, pred in enumerate(predictions, start=1):\n",
    "    print(f\"House {i}: {pred:.2f}\")"
   ]
  },
  {
   "cell_type": "code",
   "execution_count": null,
   "id": "d5288589-f222-493e-8546-7d1d5eb946a5",
   "metadata": {},
   "outputs": [],
   "source": []
  }
 ],
 "metadata": {
  "kernelspec": {
   "display_name": "Python 3 (ipykernel)",
   "language": "python",
   "name": "python3"
  },
  "language_info": {
   "codemirror_mode": {
    "name": "ipython",
    "version": 3
   },
   "file_extension": ".py",
   "mimetype": "text/x-python",
   "name": "python",
   "nbconvert_exporter": "python",
   "pygments_lexer": "ipython3",
   "version": "3.9.13"
  }
 },
 "nbformat": 4,
 "nbformat_minor": 5
}
