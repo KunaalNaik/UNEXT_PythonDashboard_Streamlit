{
 "cells": [
  {
   "cell_type": "markdown",
   "id": "5d7c3ad5-4484-4352-ba26-cc84576bed84",
   "metadata": {},
   "source": [
    "# Import Packages"
   ]
  },
  {
   "cell_type": "code",
   "execution_count": 17,
   "id": "ab1b804a-2717-4fa5-8875-66d2648bf6f3",
   "metadata": {},
   "outputs": [],
   "source": [
    "import pandas as pd\n",
    "import numpy as np\n",
    "\n",
    "from sklearn.model_selection import train_test_split\n",
    "\n",
    "from sklearn.impute import SimpleImputer\n",
    "from sklearn.preprocessing import StandardScaler, OneHotEncoder\n",
    "\n",
    "from sklearn.linear_model import LinearRegression\n",
    "\n",
    "from sklearn.metrics import r2_score, mean_squared_error, mean_absolute_percentage_error"
   ]
  },
  {
   "cell_type": "markdown",
   "id": "b002b75f-5e7b-4859-ac65-2449800e8170",
   "metadata": {},
   "source": [
    "# Import Data"
   ]
  },
  {
   "cell_type": "code",
   "execution_count": 3,
   "id": "f0b8d3b7-244a-4b18-95d2-0cf68478bf64",
   "metadata": {},
   "outputs": [],
   "source": [
    "df = pd.read_csv('dm.csv')"
   ]
  },
  {
   "cell_type": "markdown",
   "id": "a0141da8-707a-4454-ab53-95396bc673f0",
   "metadata": {},
   "source": [
    "# Data Understanding \n",
    "- Missing Values\n",
    "- Data Types\n",
    "- Shape"
   ]
  },
  {
   "cell_type": "code",
   "execution_count": 5,
   "id": "0ae65d75-1a61-4c4d-81b5-096390add4d3",
   "metadata": {},
   "outputs": [
    {
     "name": "stdout",
     "output_type": "stream",
     "text": [
      "<class 'pandas.core.frame.DataFrame'>\n",
      "RangeIndex: 1000 entries, 0 to 999\n",
      "Data columns (total 11 columns):\n",
      " #   Column       Non-Null Count  Dtype \n",
      "---  ------       --------------  ----- \n",
      " 0   Age          1000 non-null   object\n",
      " 1   Gender       1000 non-null   object\n",
      " 2   OwnHome      1000 non-null   object\n",
      " 3   Married      1000 non-null   object\n",
      " 4   Location     1000 non-null   object\n",
      " 5   Salary       1000 non-null   int64 \n",
      " 6   Children     1000 non-null   int64 \n",
      " 7   History      697 non-null    object\n",
      " 8   Catalogs     1000 non-null   int64 \n",
      " 9   AmountSpent  1000 non-null   int64 \n",
      " 10  Cust_Id      1000 non-null   int64 \n",
      "dtypes: int64(5), object(6)\n",
      "memory usage: 86.1+ KB\n"
     ]
    }
   ],
   "source": [
    "df.info()"
   ]
  },
  {
   "cell_type": "code",
   "execution_count": null,
   "id": "9e266d2c-7ef7-4e9c-b2cb-27908257af2c",
   "metadata": {},
   "outputs": [],
   "source": []
  },
  {
   "cell_type": "code",
   "execution_count": null,
   "id": "14036913-df90-4bb5-8e28-d09aaec902fd",
   "metadata": {},
   "outputs": [],
   "source": []
  },
  {
   "cell_type": "code",
   "execution_count": null,
   "id": "2fd28fbd-81c5-4bdc-a1a5-21e574c8d79e",
   "metadata": {},
   "outputs": [],
   "source": []
  },
  {
   "cell_type": "markdown",
   "id": "ff5f42d6-ecdb-46ad-a274-7a1b22cf7847",
   "metadata": {},
   "source": [
    "# Idendify Numerical and Categorical features"
   ]
  },
  {
   "cell_type": "code",
   "execution_count": 6,
   "id": "43acf0f6-8753-4ce5-9ef7-35f1b7b2a35c",
   "metadata": {},
   "outputs": [
    {
     "data": {
      "text/plain": [
       "['Salary', 'Children', 'Catalogs']"
      ]
     },
     "execution_count": 6,
     "metadata": {},
     "output_type": "execute_result"
    }
   ],
   "source": [
    "numerical_features = df.drop(['Cust_Id','AmountSpent'], axis = 1)\n",
    "    .select_dtypes(include = 'number').columns.tolist()\n",
    "numerical_features"
   ]
  },
  {
   "cell_type": "code",
   "execution_count": 7,
   "id": "78aaa395-24c2-4e6d-966c-2e00309b40e7",
   "metadata": {},
   "outputs": [
    {
     "data": {
      "text/plain": [
       "['Age', 'Gender', 'OwnHome', 'Married', 'Location', 'History']"
      ]
     },
     "execution_count": 7,
     "metadata": {},
     "output_type": "execute_result"
    }
   ],
   "source": [
    "categorical_features = df.drop(['Cust_Id','AmountSpent'], axis = 1)\n",
    "    .select_dtypes(exclude = 'number').columns.tolist()\n",
    "categorical_features"
   ]
  },
  {
   "cell_type": "markdown",
   "id": "e9c85cdc-4c20-451b-9ccc-94e8d2c8a100",
   "metadata": {},
   "source": [
    "# Partition into X and y"
   ]
  },
  {
   "cell_type": "code",
   "execution_count": 8,
   "id": "c5163f0b-1bc7-4472-9788-b1cbbe2e5d6b",
   "metadata": {},
   "outputs": [],
   "source": [
    "y = df['AmountSpent']\n",
    "X = df.drop(['Cust_Id','AmountSpent'], axis = 1)"
   ]
  },
  {
   "cell_type": "markdown",
   "id": "4c29cd13-591d-4ff6-9d5d-8d1697942b44",
   "metadata": {},
   "source": [
    "# Split into Train Test"
   ]
  },
  {
   "cell_type": "code",
   "execution_count": 9,
   "id": "37d4e509-2415-4447-81a8-3a2c451bf865",
   "metadata": {},
   "outputs": [],
   "source": [
    "X_train, X_test, y_train, y_test = train_test_split(X,y, test_size = 0.2, random_state=42)"
   ]
  },
  {
   "cell_type": "markdown",
   "id": "de549fa0-7e0c-47a5-984c-3eb1056e06d6",
   "metadata": {},
   "source": [
    "# Preprocessing\n",
    "- Missing Value Treatment\n",
    "- Outlier Treatment\n",
    "- Numerical Tranformation\n",
    "- Categorical Encoding\n",
    "- ** Feature Selection, Dimentionality Reduction"
   ]
  },
  {
   "cell_type": "markdown",
   "id": "cdfab03b-66fe-4b2f-aaa7-ba1f77e1533c",
   "metadata": {},
   "source": [
    "# Numerical Treatment"
   ]
  },
  {
   "cell_type": "code",
   "execution_count": 11,
   "id": "5b46a751-bc33-46f1-9e3b-d58c21551362",
   "metadata": {},
   "outputs": [],
   "source": [
    "# Create and Instance\n",
    "scaler = StandardScaler()\n",
    "# Fit\n",
    "scaler.fit(X_train[numerical_features])\n",
    "# Transform\n",
    "X_train[numerical_features] = scaler.transform(X_train[numerical_features])\n",
    "X_test[numerical_features] = scaler.transform(X_test[numerical_features])"
   ]
  },
  {
   "cell_type": "markdown",
   "id": "fb0f02d1-7876-4523-ac10-bde0f1e4ffff",
   "metadata": {},
   "source": [
    "# Categorical Treatment"
   ]
  },
  {
   "cell_type": "code",
   "execution_count": 15,
   "id": "b35498d1-1f19-40a6-a976-50daa0d7ddc6",
   "metadata": {},
   "outputs": [],
   "source": [
    "# Create and Instance\n",
    "cat_impute = SimpleImputer(strategy = 'most_frequent')\n",
    "# Fit\n",
    "cat_impute.fit(X_train[categorical_features])\n",
    "# Transform\n",
    "X_train[categorical_features] = cat_impute.transform(X_train[categorical_features])\n",
    "X_test[categorical_features] = cat_impute.transform(X_test[categorical_features])"
   ]
  },
  {
   "cell_type": "code",
   "execution_count": 18,
   "id": "8e75685e-c5ef-43e8-b193-115b0ebb1d60",
   "metadata": {},
   "outputs": [
    {
     "data": {
      "text/plain": [
       "OneHotEncoder()"
      ]
     },
     "execution_count": 18,
     "metadata": {},
     "output_type": "execute_result"
    }
   ],
   "source": [
    "# Create and Instance\n",
    "ohe = OneHotEncoder()\n",
    "# Fit\n",
    "ohe.fit(X_train[categorical_features])\n"
   ]
  },
  {
   "cell_type": "code",
   "execution_count": 19,
   "id": "a1719713-5a7c-46ee-8931-32a64f2cc23d",
   "metadata": {},
   "outputs": [
    {
     "data": {
      "text/plain": [
       "<800x14 sparse matrix of type '<class 'numpy.float64'>'\n",
       "\twith 4800 stored elements in Compressed Sparse Row format>"
      ]
     },
     "execution_count": 19,
     "metadata": {},
     "output_type": "execute_result"
    }
   ],
   "source": [
    "ohe.transform(X_train[categorical_features])"
   ]
  },
  {
   "cell_type": "code",
   "execution_count": null,
   "id": "3e259f16-2e53-4c6e-b162-165decda82cc",
   "metadata": {},
   "outputs": [],
   "source": [
    "# Transform\n",
    "X_train[categorical_features] = scaler.transform(X_train[categorical_features])\n",
    "X_test[categorical_features] = scaler.transform(X_test[categorical_features])"
   ]
  },
  {
   "cell_type": "markdown",
   "id": "c8f02591-1077-459a-ae65-9bc05ff5c8c9",
   "metadata": {},
   "source": [
    "# Model"
   ]
  },
  {
   "cell_type": "code",
   "execution_count": null,
   "id": "11e197d2-7e40-42f6-af44-b9ae9e0e4895",
   "metadata": {},
   "outputs": [],
   "source": []
  },
  {
   "cell_type": "markdown",
   "id": "792ecad2-9d98-4bcf-9c71-70eefe60ace8",
   "metadata": {},
   "source": [
    "# Predictions"
   ]
  },
  {
   "cell_type": "code",
   "execution_count": null,
   "id": "222f8a58-e61c-4a4b-a222-193bf8265dc9",
   "metadata": {},
   "outputs": [],
   "source": []
  },
  {
   "cell_type": "markdown",
   "id": "04d7440b-97f7-4919-84e5-d6ffba595038",
   "metadata": {},
   "source": [
    "# Performance Metrics"
   ]
  },
  {
   "cell_type": "code",
   "execution_count": null,
   "id": "dd083471-9a6f-4bdc-9704-7b93f57f0fa0",
   "metadata": {},
   "outputs": [],
   "source": []
  }
 ],
 "metadata": {
  "kernelspec": {
   "display_name": "Python 3 (ipykernel)",
   "language": "python",
   "name": "python3"
  },
  "language_info": {
   "codemirror_mode": {
    "name": "ipython",
    "version": 3
   },
   "file_extension": ".py",
   "mimetype": "text/x-python",
   "name": "python",
   "nbconvert_exporter": "python",
   "pygments_lexer": "ipython3",
   "version": "3.9.13"
  }
 },
 "nbformat": 4,
 "nbformat_minor": 5
}
