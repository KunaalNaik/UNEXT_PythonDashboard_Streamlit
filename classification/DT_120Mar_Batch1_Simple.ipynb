{
 "cells": [
  {
   "cell_type": "markdown",
   "id": "5d7c3ad5-4484-4352-ba26-cc84576bed84",
   "metadata": {},
   "source": [
    "# Import Packages"
   ]
  },
  {
   "cell_type": "code",
   "execution_count": 3,
   "id": "ab1b804a-2717-4fa5-8875-66d2648bf6f3",
   "metadata": {},
   "outputs": [],
   "source": [
    "import pandas as pd\n",
    "import numpy as np\n",
    "\n",
    "from sklearn.model_selection import train_test_split\n",
    "\n",
    "from sklearn.preprocessing import StandardScaler\n",
    "\n",
    "#from sklearn.linear_model import LogisticRegression\n",
    "from sklearn.tree import DecisionTreeClassifier\n",
    "\n",
    "from sklearn.metrics import classification_report"
   ]
  },
  {
   "cell_type": "markdown",
   "id": "b002b75f-5e7b-4859-ac65-2449800e8170",
   "metadata": {},
   "source": [
    "# Import Data"
   ]
  },
  {
   "cell_type": "code",
   "execution_count": 4,
   "id": "f0b8d3b7-244a-4b18-95d2-0cf68478bf64",
   "metadata": {},
   "outputs": [],
   "source": [
    "df = pd.read_csv('customer_churn_simple.csv')"
   ]
  },
  {
   "cell_type": "markdown",
   "id": "a0141da8-707a-4454-ab53-95396bc673f0",
   "metadata": {},
   "source": [
    "# Data Understanding \n",
    "- Missing Values\n",
    "- Data Types\n",
    "- Shape"
   ]
  },
  {
   "cell_type": "code",
   "execution_count": 5,
   "id": "0ae65d75-1a61-4c4d-81b5-096390add4d3",
   "metadata": {},
   "outputs": [
    {
     "name": "stdout",
     "output_type": "stream",
     "text": [
      "<class 'pandas.core.frame.DataFrame'>\n",
      "RangeIndex: 10000 entries, 0 to 9999\n",
      "Data columns (total 7 columns):\n",
      " #   Column            Non-Null Count  Dtype\n",
      "---  ------            --------------  -----\n",
      " 0   Cust_id           10000 non-null  int64\n",
      " 1   Gender            10000 non-null  int64\n",
      " 2   Tenure            10000 non-null  int64\n",
      " 3   NumberofProducts  10000 non-null  int64\n",
      " 4   HasCreditCard     10000 non-null  int64\n",
      " 5   IsActiveMember    10000 non-null  int64\n",
      " 6   Churn             10000 non-null  int64\n",
      "dtypes: int64(7)\n",
      "memory usage: 547.0 KB\n"
     ]
    }
   ],
   "source": [
    "df.info()"
   ]
  },
  {
   "cell_type": "markdown",
   "id": "ff5f42d6-ecdb-46ad-a274-7a1b22cf7847",
   "metadata": {},
   "source": [
    "# Idendify Numerical and Categorical features"
   ]
  },
  {
   "cell_type": "code",
   "execution_count": 6,
   "id": "43acf0f6-8753-4ce5-9ef7-35f1b7b2a35c",
   "metadata": {},
   "outputs": [
    {
     "data": {
      "text/plain": [
       "['Gender', 'Tenure', 'NumberofProducts', 'HasCreditCard', 'IsActiveMember']"
      ]
     },
     "execution_count": 6,
     "metadata": {},
     "output_type": "execute_result"
    }
   ],
   "source": [
    "numerical_features = df.drop(['Cust_id', 'Churn'], axis = 1).select_dtypes(include = 'number').columns.tolist()\n",
    "numerical_features"
   ]
  },
  {
   "cell_type": "markdown",
   "id": "e9c85cdc-4c20-451b-9ccc-94e8d2c8a100",
   "metadata": {},
   "source": [
    "# Partition into X and y"
   ]
  },
  {
   "cell_type": "code",
   "execution_count": 7,
   "id": "c5163f0b-1bc7-4472-9788-b1cbbe2e5d6b",
   "metadata": {},
   "outputs": [],
   "source": [
    "y = df['Churn']\n",
    "X = df[numerical_features]"
   ]
  },
  {
   "cell_type": "code",
   "execution_count": 9,
   "id": "0d57c2f6-36b3-4974-8c25-76614d4d94bc",
   "metadata": {},
   "outputs": [
    {
     "data": {
      "text/plain": [
       "<AxesSubplot:>"
      ]
     },
     "execution_count": 9,
     "metadata": {},
     "output_type": "execute_result"
    },
    {
     "data": {
      "image/png": "[encoded data removed]",
      "text/plain": [
       "<Figure size 640x480 with 1 Axes>"
      ]
     },
     "metadata": {},
     "output_type": "display_data"
    }
   ],
   "source": [
    "df['Churn'].value_counts().plot.bar()"
   ]
  },
  {
   "cell_type": "markdown",
   "id": "4c29cd13-591d-4ff6-9d5d-8d1697942b44",
   "metadata": {},
   "source": [
    "# Split into Train Test"
   ]
  },
  {
   "cell_type": "code",
   "execution_count": 10,
   "id": "37d4e509-2415-4447-81a8-3a2c451bf865",
   "metadata": {},
   "outputs": [],
   "source": [
    "X_train, X_test, y_train, y_test = train_test_split(X,y, test_size = 0.2, random_state=42, stratify = y)"
   ]
  },
  {
   "cell_type": "markdown",
   "id": "de549fa0-7e0c-47a5-984c-3eb1056e06d6",
   "metadata": {},
   "source": [
    "# Preprocessing\n",
    "- Missing Value Treatment\n",
    "- Outlier Treatment\n",
    "- Numerical Tranformation\n",
    "- Categorical Encoding\n",
    "- ** Feature Selection, Dimentionality Reduction"
   ]
  },
  {
   "cell_type": "code",
   "execution_count": null,
   "id": "c1f59829-755e-4475-a2ec-082446f2049a",
   "metadata": {},
   "outputs": [],
   "source": []
  },
  {
   "cell_type": "markdown",
   "id": "cdfab03b-66fe-4b2f-aaa7-ba1f77e1533c",
   "metadata": {},
   "source": [
    "# Numerical Treatment"
   ]
  },
  {
   "cell_type": "code",
   "execution_count": null,
   "id": "5b46a751-bc33-46f1-9e3b-d58c21551362",
   "metadata": {},
   "outputs": [],
   "source": []
  },
  {
   "cell_type": "markdown",
   "id": "fb0f02d1-7876-4523-ac10-bde0f1e4ffff",
   "metadata": {},
   "source": [
    "# Categorical Treatment"
   ]
  },
  {
   "cell_type": "code",
   "execution_count": null,
   "id": "b35498d1-1f19-40a6-a976-50daa0d7ddc6",
   "metadata": {},
   "outputs": [],
   "source": []
  },
  {
   "cell_type": "markdown",
   "id": "c8f02591-1077-459a-ae65-9bc05ff5c8c9",
   "metadata": {},
   "source": [
    "# Model"
   ]
  },
  {
   "cell_type": "code",
   "execution_count": 56,
   "id": "11e197d2-7e40-42f6-af44-b9ae9e0e4895",
   "metadata": {},
   "outputs": [],
   "source": [
    "# Create Instance\n",
    "dt = DecisionTreeClassifier()"
   ]
  },
  {
   "cell_type": "code",
   "execution_count": 57,
   "id": "595bb7c6-ae86-4045-9aba-75177cb7af16",
   "metadata": {},
   "outputs": [
    {
     "data": {
      "text/plain": [
       "DecisionTreeClassifier()"
      ]
     },
     "execution_count": 57,
     "metadata": {},
     "output_type": "execute_result"
    }
   ],
   "source": [
    "# Fit\n",
    "dt.fit(X_train, y_train)"
   ]
  },
  {
   "cell_type": "code",
   "execution_count": 58,
   "id": "3d8f2f24-7ded-4974-a049-373f25a0ced2",
   "metadata": {},
   "outputs": [
    {
     "data": {
      "text/plain": [
       "12"
      ]
     },
     "execution_count": 58,
     "metadata": {},
     "output_type": "execute_result"
    }
   ],
   "source": [
    "dt.get_depth()"
   ]
  },
  {
   "cell_type": "markdown",
   "id": "792ecad2-9d98-4bcf-9c71-70eefe60ace8",
   "metadata": {},
   "source": [
    "# Predictions"
   ]
  },
  {
   "cell_type": "code",
   "execution_count": 59,
   "id": "222f8a58-e61c-4a4b-a222-193bf8265dc9",
   "metadata": {},
   "outputs": [],
   "source": [
    "y_pred_train_class = dt.predict(X_train)\n",
    "y_pred_test_class = dt.predict(X_test)"
   ]
  },
  {
   "cell_type": "code",
   "execution_count": 60,
   "id": "3e114ea8-3707-4503-b6c2-9658773f239d",
   "metadata": {},
   "outputs": [],
   "source": [
    "y_pred_train_proba = dt.predict_proba(X_train)[:,0]"
   ]
  },
  {
   "cell_type": "markdown",
   "id": "04d7440b-97f7-4919-84e5-d6ffba595038",
   "metadata": {},
   "source": [
    "# Performance Metrics"
   ]
  },
  {
   "cell_type": "code",
   "execution_count": 61,
   "id": "dd083471-9a6f-4bdc-9704-7b93f57f0fa0",
   "metadata": {},
   "outputs": [
    {
     "name": "stdout",
     "output_type": "stream",
     "text": [
      "              precision    recall  f1-score   support\n",
      "\n",
      "           0       0.82      0.99      0.90      6370\n",
      "           1       0.81      0.16      0.27      1630\n",
      "\n",
      "    accuracy                           0.82      8000\n",
      "   macro avg       0.81      0.57      0.58      8000\n",
      "weighted avg       0.82      0.82      0.77      8000\n",
      "\n"
     ]
    }
   ],
   "source": [
    "print(classification_report(y_train, y_pred_train_class))"
   ]
  },
  {
   "cell_type": "code",
   "execution_count": 62,
   "id": "0f0e8f54-e1d0-465e-978e-960510381df6",
   "metadata": {},
   "outputs": [
    {
     "name": "stdout",
     "output_type": "stream",
     "text": [
      "              precision    recall  f1-score   support\n",
      "\n",
      "           0       0.82      0.99      0.90      1593\n",
      "           1       0.80      0.15      0.26       407\n",
      "\n",
      "    accuracy                           0.82      2000\n",
      "   macro avg       0.81      0.57      0.58      2000\n",
      "weighted avg       0.82      0.82      0.77      2000\n",
      "\n"
     ]
    }
   ],
   "source": [
    "print(classification_report(y_test, y_pred_test_class))"
   ]
  },
  {
   "cell_type": "code",
   "execution_count": null,
   "id": "619e5db1-d3a4-41ae-a223-e9e6e7796d19",
   "metadata": {},
   "outputs": [],
   "source": []
  }
 ],
 "metadata": {
  "kernelspec": {
   "display_name": "Python 3 (ipykernel)",
   "language": "python",
   "name": "python3"
  },
  "language_info": {
   "codemirror_mode": {
    "name": "ipython",
    "version": 3
   },
   "file_extension": ".py",
   "mimetype": "text/x-python",
   "name": "python",
   "nbconvert_exporter": "python",
   "pygments_lexer": "ipython3",
   "version": "3.9.13"
  }
 },
 "nbformat": 4,
 "nbformat_minor": 5
}
