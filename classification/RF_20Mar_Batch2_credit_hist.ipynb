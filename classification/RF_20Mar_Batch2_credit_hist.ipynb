{
 "cells": [
  {
   "cell_type": "markdown",
   "id": "5d7c3ad5-4484-4352-ba26-cc84576bed84",
   "metadata": {},
   "source": [
    "# Import Packages"
   ]
  },
  {
   "cell_type": "code",
   "execution_count": 87,
   "id": "ab1b804a-2717-4fa5-8875-66d2648bf6f3",
   "metadata": {},
   "outputs": [],
   "source": [
    "import pandas as pd\n",
    "import numpy as np\n",
    "\n",
    "from sklearn.model_selection import train_test_split\n",
    "\n",
    "from sklearn.preprocessing import StandardScaler\n",
    "\n",
    "#from sklearn.linear_model import LogisticRegression\n",
    "#from sklearn.tree import DecisionTreeClassifier\n",
    "from sklearn.ensemble import RandomForestClassifier\n",
    "\n",
    "from sklearn.metrics import classification_report, roc_auc_score, cohen_kappa_score, confusion_matrix"
   ]
  },
  {
   "cell_type": "markdown",
   "id": "b002b75f-5e7b-4859-ac65-2449800e8170",
   "metadata": {},
   "source": [
    "# Import Data"
   ]
  },
  {
   "cell_type": "code",
   "execution_count": 88,
   "id": "f0b8d3b7-244a-4b18-95d2-0cf68478bf64",
   "metadata": {},
   "outputs": [],
   "source": [
    "df = pd.read_csv('credit_history.csv')"
   ]
  },
  {
   "cell_type": "markdown",
   "id": "a0141da8-707a-4454-ab53-95396bc673f0",
   "metadata": {},
   "source": [
    "# Data Understanding \n",
    "- Missing Values\n",
    "- Data Types\n",
    "- Shape"
   ]
  },
  {
   "cell_type": "code",
   "execution_count": 89,
   "id": "0ae65d75-1a61-4c4d-81b5-096390add4d3",
   "metadata": {},
   "outputs": [
    {
     "name": "stdout",
     "output_type": "stream",
     "text": [
      "<class 'pandas.core.frame.DataFrame'>\n",
      "RangeIndex: 7727 entries, 0 to 7726\n",
      "Data columns (total 7 columns):\n",
      " #   Column     Non-Null Count  Dtype  \n",
      "---  ------     --------------  -----  \n",
      " 0   default    7727 non-null   int64  \n",
      " 1   amount     7727 non-null   int64  \n",
      " 2   grade      7727 non-null   object \n",
      " 3   years      7448 non-null   float64\n",
      " 4   ownership  7727 non-null   object \n",
      " 5   income     7727 non-null   float64\n",
      " 6   age        7727 non-null   int64  \n",
      "dtypes: float64(2), int64(3), object(2)\n",
      "memory usage: 422.7+ KB\n"
     ]
    }
   ],
   "source": [
    "df.info()"
   ]
  },
  {
   "cell_type": "code",
   "execution_count": 90,
   "id": "b08455f6-2f1f-4732-82d6-d09db4c222d8",
   "metadata": {},
   "outputs": [
    {
     "data": {
      "text/plain": [
       "<AxesSubplot:>"
      ]
     },
     "execution_count": 90,
     "metadata": {},
     "output_type": "execute_result"
    },
    {
     "data": {
      "image/png": "[encoded data removed]",
      "text/plain": [
       "<Figure size 640x480 with 1 Axes>"
      ]
     },
     "metadata": {},
     "output_type": "display_data"
    }
   ],
   "source": [
    "df['default'].value_counts().plot.bar()"
   ]
  },
  {
   "cell_type": "markdown",
   "id": "ff5f42d6-ecdb-46ad-a274-7a1b22cf7847",
   "metadata": {},
   "source": [
    "# Idendify Numerical and Categorical features"
   ]
  },
  {
   "cell_type": "code",
   "execution_count": 91,
   "id": "43acf0f6-8753-4ce5-9ef7-35f1b7b2a35c",
   "metadata": {},
   "outputs": [
    {
     "data": {
      "text/plain": [
       "['amount', 'years', 'income', 'age']"
      ]
     },
     "execution_count": 91,
     "metadata": {},
     "output_type": "execute_result"
    }
   ],
   "source": [
    "numerical_features = df.drop(['default'], axis =1).select_dtypes(include = 'number').columns.tolist()\n",
    "numerical_features"
   ]
  },
  {
   "cell_type": "code",
   "execution_count": 92,
   "id": "78aaa395-24c2-4e6d-966c-2e00309b40e7",
   "metadata": {},
   "outputs": [
    {
     "data": {
      "text/plain": [
       "['grade', 'ownership']"
      ]
     },
     "execution_count": 92,
     "metadata": {},
     "output_type": "execute_result"
    }
   ],
   "source": [
    "categorical_features = df.drop(['default'], axis =1).select_dtypes(exclude = 'number').columns.tolist()\n",
    "categorical_features"
   ]
  },
  {
   "cell_type": "markdown",
   "id": "e9c85cdc-4c20-451b-9ccc-94e8d2c8a100",
   "metadata": {},
   "source": [
    "# Partition into X and y"
   ]
  },
  {
   "cell_type": "code",
   "execution_count": 93,
   "id": "c5163f0b-1bc7-4472-9788-b1cbbe2e5d6b",
   "metadata": {},
   "outputs": [],
   "source": [
    "y = df['default']\n",
    "X = df.drop(['default'], axis = 1)"
   ]
  },
  {
   "cell_type": "markdown",
   "id": "4c29cd13-591d-4ff6-9d5d-8d1697942b44",
   "metadata": {},
   "source": [
    "# Split into Train Test"
   ]
  },
  {
   "cell_type": "code",
   "execution_count": 94,
   "id": "37d4e509-2415-4447-81a8-3a2c451bf865",
   "metadata": {},
   "outputs": [],
   "source": [
    "X_train, X_test, y_train, y_test = train_test_split(X,y, test_size = 0.2, random_state=42, stratify = y)\n",
    "# Stratify "
   ]
  },
  {
   "cell_type": "markdown",
   "id": "de549fa0-7e0c-47a5-984c-3eb1056e06d6",
   "metadata": {},
   "source": [
    "# Preprocessing\n",
    "- Missing Value Treatment\n",
    "- Outlier Treatment\n",
    "- Numerical Tranformation\n",
    "- Categorical Encoding\n",
    "- ** Feature Selection, Dimentionality Reduction"
   ]
  },
  {
   "cell_type": "code",
   "execution_count": null,
   "id": "c1f59829-755e-4475-a2ec-082446f2049a",
   "metadata": {},
   "outputs": [],
   "source": []
  },
  {
   "cell_type": "markdown",
   "id": "cdfab03b-66fe-4b2f-aaa7-ba1f77e1533c",
   "metadata": {},
   "source": [
    "# Numerical Treatment"
   ]
  },
  {
   "cell_type": "code",
   "execution_count": 95,
   "id": "b5864206-db98-4041-99d2-ebb9b0ab837b",
   "metadata": {},
   "outputs": [],
   "source": [
    "X_train['years'] = X_train['years'].fillna(X_train['years'].median())\n",
    "X_test['years'] = X_test['years'].fillna(X_test['years'].median())"
   ]
  },
  {
   "cell_type": "code",
   "execution_count": 96,
   "id": "5b46a751-bc33-46f1-9e3b-d58c21551362",
   "metadata": {},
   "outputs": [],
   "source": [
    "# Instance\n",
    "scaler = StandardScaler()\n",
    "\n",
    "# Fit\n",
    "scaler.fit(X_train[numerical_features])\n",
    "\n",
    "# Transform\n",
    "X_train[numerical_features] = scaler.transform(X_train[numerical_features])\n",
    "X_test[numerical_features] = scaler.transform(X_test[numerical_features])"
   ]
  },
  {
   "cell_type": "code",
   "execution_count": 97,
   "id": "1c9d1183-6448-466c-ae59-7969af77d835",
   "metadata": {},
   "outputs": [
    {
     "data": {
      "text/plain": [
       "<AxesSubplot:>"
      ]
     },
     "execution_count": 97,
     "metadata": {},
     "output_type": "execute_result"
    },
    {
     "data": {
      "image/png": "[encoded data removed]",
      "text/plain": [
       "<Figure size 640x480 with 1 Axes>"
      ]
     },
     "metadata": {},
     "output_type": "display_data"
    }
   ],
   "source": [
    "df[numerical_features].plot.box()"
   ]
  },
  {
   "cell_type": "code",
   "execution_count": 98,
   "id": "e8b9f2ac-908e-4e01-9dcb-5d6ae6a9b47d",
   "metadata": {},
   "outputs": [
    {
     "data": {
      "text/plain": [
       "<AxesSubplot:>"
      ]
     },
     "execution_count": 98,
     "metadata": {},
     "output_type": "execute_result"
    },
    {
     "data": {
      "image/png": "[encoded data removed]",
      "text/plain": [
       "<Figure size 640x480 with 1 Axes>"
      ]
     },
     "metadata": {},
     "output_type": "display_data"
    }
   ],
   "source": [
    "X_train[numerical_features].plot.box()"
   ]
  },
  {
   "cell_type": "code",
   "execution_count": 99,
   "id": "343516ee-ef71-40d7-89e2-a3b130a11fff",
   "metadata": {},
   "outputs": [
    {
     "data": {
      "text/html": [
       "<div>\n",
       "<style scoped>\n",
       "    .dataframe tbody tr th:only-of-type {\n",
       "        vertical-align: middle;\n",
       "    }\n",
       "\n",
       "    .dataframe tbody tr th {\n",
       "        vertical-align: top;\n",
       "    }\n",
       "\n",
       "    .dataframe thead th {\n",
       "        text-align: right;\n",
       "    }\n",
       "</style>\n",
       "<table border=\"1\" class=\"dataframe\">\n",
       "  <thead>\n",
       "    <tr style=\"text-align: right;\">\n",
       "      <th></th>\n",
       "      <th>default</th>\n",
       "      <th>amount</th>\n",
       "      <th>grade</th>\n",
       "      <th>years</th>\n",
       "      <th>ownership</th>\n",
       "      <th>income</th>\n",
       "      <th>age</th>\n",
       "    </tr>\n",
       "  </thead>\n",
       "  <tbody>\n",
       "    <tr>\n",
       "      <th>0</th>\n",
       "      <td>0</td>\n",
       "      <td>1000</td>\n",
       "      <td>B</td>\n",
       "      <td>2.0</td>\n",
       "      <td>RENT</td>\n",
       "      <td>19200.0</td>\n",
       "      <td>24</td>\n",
       "    </tr>\n",
       "    <tr>\n",
       "      <th>1</th>\n",
       "      <td>1</td>\n",
       "      <td>6500</td>\n",
       "      <td>A</td>\n",
       "      <td>2.0</td>\n",
       "      <td>MORTGAGE</td>\n",
       "      <td>66000.0</td>\n",
       "      <td>28</td>\n",
       "    </tr>\n",
       "    <tr>\n",
       "      <th>2</th>\n",
       "      <td>0</td>\n",
       "      <td>2400</td>\n",
       "      <td>A</td>\n",
       "      <td>2.0</td>\n",
       "      <td>RENT</td>\n",
       "      <td>60000.0</td>\n",
       "      <td>36</td>\n",
       "    </tr>\n",
       "  </tbody>\n",
       "</table>\n",
       "</div>"
      ],
      "text/plain": [
       "   default  amount grade  years ownership   income  age\n",
       "0        0    1000     B    2.0      RENT  19200.0   24\n",
       "1        1    6500     A    2.0  MORTGAGE  66000.0   28\n",
       "2        0    2400     A    2.0      RENT  60000.0   36"
      ]
     },
     "execution_count": 99,
     "metadata": {},
     "output_type": "execute_result"
    }
   ],
   "source": [
    "df.head(3)"
   ]
  },
  {
   "cell_type": "code",
   "execution_count": 100,
   "id": "561f7a19-e0be-4ef6-87d7-0707e4a7c6e7",
   "metadata": {},
   "outputs": [
    {
     "data": {
      "text/html": [
       "<div>\n",
       "<style scoped>\n",
       "    .dataframe tbody tr th:only-of-type {\n",
       "        vertical-align: middle;\n",
       "    }\n",
       "\n",
       "    .dataframe tbody tr th {\n",
       "        vertical-align: top;\n",
       "    }\n",
       "\n",
       "    .dataframe thead th {\n",
       "        text-align: right;\n",
       "    }\n",
       "</style>\n",
       "<table border=\"1\" class=\"dataframe\">\n",
       "  <thead>\n",
       "    <tr style=\"text-align: right;\">\n",
       "      <th></th>\n",
       "      <th>amount</th>\n",
       "      <th>grade</th>\n",
       "      <th>years</th>\n",
       "      <th>ownership</th>\n",
       "      <th>income</th>\n",
       "      <th>age</th>\n",
       "    </tr>\n",
       "  </thead>\n",
       "  <tbody>\n",
       "    <tr>\n",
       "      <th>4940</th>\n",
       "      <td>-0.871113</td>\n",
       "      <td>C</td>\n",
       "      <td>-0.909059</td>\n",
       "      <td>RENT</td>\n",
       "      <td>-0.072012</td>\n",
       "      <td>-0.241285</td>\n",
       "    </tr>\n",
       "    <tr>\n",
       "      <th>1988</th>\n",
       "      <td>-0.237510</td>\n",
       "      <td>C</td>\n",
       "      <td>0.155846</td>\n",
       "      <td>MORTGAGE</td>\n",
       "      <td>0.769013</td>\n",
       "      <td>-0.568270</td>\n",
       "    </tr>\n",
       "    <tr>\n",
       "      <th>1393</th>\n",
       "      <td>1.663300</td>\n",
       "      <td>B</td>\n",
       "      <td>1.068621</td>\n",
       "      <td>MORTGAGE</td>\n",
       "      <td>2.329689</td>\n",
       "      <td>0.412686</td>\n",
       "    </tr>\n",
       "  </tbody>\n",
       "</table>\n",
       "</div>"
      ],
      "text/plain": [
       "        amount grade     years ownership    income       age\n",
       "4940 -0.871113     C -0.909059      RENT -0.072012 -0.241285\n",
       "1988 -0.237510     C  0.155846  MORTGAGE  0.769013 -0.568270\n",
       "1393  1.663300     B  1.068621  MORTGAGE  2.329689  0.412686"
      ]
     },
     "execution_count": 100,
     "metadata": {},
     "output_type": "execute_result"
    }
   ],
   "source": [
    "X_train.head(3)"
   ]
  },
  {
   "cell_type": "markdown",
   "id": "fb0f02d1-7876-4523-ac10-bde0f1e4ffff",
   "metadata": {},
   "source": [
    "# Categorical Treatment"
   ]
  },
  {
   "cell_type": "code",
   "execution_count": 101,
   "id": "e45135a3-74e4-447c-bf28-6fec0be807a9",
   "metadata": {},
   "outputs": [],
   "source": [
    "X_train = pd.get_dummies(X_train, drop_first=True)"
   ]
  },
  {
   "cell_type": "code",
   "execution_count": 102,
   "id": "b35498d1-1f19-40a6-a976-50daa0d7ddc6",
   "metadata": {},
   "outputs": [],
   "source": [
    "X_test = pd.get_dummies(X_test, drop_first=True)"
   ]
  },
  {
   "cell_type": "markdown",
   "id": "c8f02591-1077-459a-ae65-9bc05ff5c8c9",
   "metadata": {},
   "source": [
    "# Model"
   ]
  },
  {
   "cell_type": "code",
   "execution_count": 128,
   "id": "11e197d2-7e40-42f6-af44-b9ae9e0e4895",
   "metadata": {},
   "outputs": [],
   "source": [
    "rf = RandomForestClassifier(random_state=42)"
   ]
  },
  {
   "cell_type": "markdown",
   "id": "86d7497a-b0e2-4567-969e-bfa302e09ce5",
   "metadata": {},
   "source": [
    "# Grid Search CV"
   ]
  },
  {
   "cell_type": "code",
   "execution_count": 138,
   "id": "27ae93f6-02a5-4c5d-a520-6304e51b1f44",
   "metadata": {},
   "outputs": [],
   "source": [
    "# Import \n",
    "from sklearn.model_selection import GridSearchCV"
   ]
  },
  {
   "cell_type": "code",
   "execution_count": 164,
   "id": "3ef6aad8-c47e-49f7-be30-83d02a15c836",
   "metadata": {},
   "outputs": [],
   "source": [
    "param_grid = { 'max_depth' : [8,9,10,11,12],\n",
    "               'n_estimators' : [33,34,35,36,37]\n",
    "             }"
   ]
  },
  {
   "cell_type": "code",
   "execution_count": 165,
   "id": "d5ea20b7-ac9c-48cc-a287-131cbb8b35a3",
   "metadata": {},
   "outputs": [],
   "source": [
    "# Instance\n",
    "gs = GridSearchCV(estimator = rf, param_grid = param_grid, verbose = 1, cv = 5)"
   ]
  },
  {
   "cell_type": "code",
   "execution_count": 166,
   "id": "021e16b1-5650-4fe8-9b78-35f3e582230e",
   "metadata": {},
   "outputs": [
    {
     "name": "stdout",
     "output_type": "stream",
     "text": [
      "Fitting 5 folds for each of 25 candidates, totalling 125 fits\n"
     ]
    },
    {
     "data": {
      "text/plain": [
       "GridSearchCV(cv=5,\n",
       "             estimator=RandomForestClassifier(max_depth=5, n_estimators=10,\n",
       "                                              random_state=42),\n",
       "             param_grid={'max_depth': [8, 9, 10, 11, 12],\n",
       "                         'n_estimators': [33, 34, 35, 36, 37]},\n",
       "             verbose=1)"
      ]
     },
     "execution_count": 166,
     "metadata": {},
     "output_type": "execute_result"
    }
   ],
   "source": [
    "gs.fit(X_train, y_train)"
   ]
  },
  {
   "cell_type": "code",
   "execution_count": 167,
   "id": "6ac776a3-bedd-46b5-b41f-8ffbac3c964b",
   "metadata": {},
   "outputs": [
    {
     "data": {
      "text/plain": [
       "RandomForestClassifier(max_depth=12, n_estimators=37, random_state=42)"
      ]
     },
     "execution_count": 167,
     "metadata": {},
     "output_type": "execute_result"
    }
   ],
   "source": [
    "gs.best_estimator_"
   ]
  },
  {
   "cell_type": "markdown",
   "id": "792ecad2-9d98-4bcf-9c71-70eefe60ace8",
   "metadata": {},
   "source": [
    "# Predictions"
   ]
  },
  {
   "cell_type": "code",
   "execution_count": 168,
   "id": "222f8a58-e61c-4a4b-a222-193bf8265dc9",
   "metadata": {},
   "outputs": [
    {
     "data": {
      "text/plain": [
       "array([1, 1, 0, ..., 1, 1, 0], dtype=int64)"
      ]
     },
     "execution_count": 168,
     "metadata": {},
     "output_type": "execute_result"
    }
   ],
   "source": [
    "y_pred_train_class = gs.predict(X_train)\n",
    "y_pred_test_class = gs.predict(X_test)\n",
    "y_pred_train_class"
   ]
  },
  {
   "cell_type": "code",
   "execution_count": 169,
   "id": "0dc202ec-a62b-4772-9e47-be320e0839ec",
   "metadata": {},
   "outputs": [
    {
     "data": {
      "text/plain": [
       "array([0.41436832, 0.36102565, 0.72979287, ..., 0.374576  , 0.20198335,\n",
       "       0.77742929])"
      ]
     },
     "execution_count": 169,
     "metadata": {},
     "output_type": "execute_result"
    }
   ],
   "source": [
    "y_pred_train_proba = gs.predict_proba(X_train)[:,0]\n",
    "y_pred_train_proba"
   ]
  },
  {
   "cell_type": "markdown",
   "id": "04d7440b-97f7-4919-84e5-d6ffba595038",
   "metadata": {},
   "source": [
    "# Performance Metrics"
   ]
  },
  {
   "cell_type": "code",
   "execution_count": 170,
   "id": "dd083471-9a6f-4bdc-9704-7b93f57f0fa0",
   "metadata": {},
   "outputs": [
    {
     "name": "stdout",
     "output_type": "stream",
     "text": [
      "              precision    recall  f1-score   support\n",
      "\n",
      "           0       0.79      0.91      0.85      3224\n",
      "           1       0.89      0.74      0.81      2957\n",
      "\n",
      "    accuracy                           0.83      6181\n",
      "   macro avg       0.84      0.83      0.83      6181\n",
      "weighted avg       0.84      0.83      0.83      6181\n",
      "\n"
     ]
    }
   ],
   "source": [
    "print(classification_report(y_train,y_pred_train_class))"
   ]
  },
  {
   "cell_type": "code",
   "execution_count": 171,
   "id": "bb2736ba-b9fc-4ec4-baa9-cee1f9277b50",
   "metadata": {},
   "outputs": [
    {
     "name": "stdout",
     "output_type": "stream",
     "text": [
      "              precision    recall  f1-score   support\n",
      "\n",
      "           0       0.68      0.76      0.72       806\n",
      "           1       0.70      0.60      0.65       740\n",
      "\n",
      "    accuracy                           0.68      1546\n",
      "   macro avg       0.69      0.68      0.68      1546\n",
      "weighted avg       0.69      0.68      0.68      1546\n",
      "\n"
     ]
    }
   ],
   "source": [
    "print(classification_report(y_test,y_pred_test_class))"
   ]
  },
  {
   "cell_type": "code",
   "execution_count": 172,
   "id": "79a4aabb-a2e8-4cc8-a0f0-d67aa07057d7",
   "metadata": {},
   "outputs": [
    {
     "name": "stdout",
     "output_type": "stream",
     "text": [
      "0.826348148943794\n",
      "0.6816243042049493\n"
     ]
    }
   ],
   "source": [
    "print(roc_auc_score(y_train,y_pred_train_class))\n",
    "print(roc_auc_score(y_test,y_pred_test_class))"
   ]
  },
  {
   "cell_type": "code",
   "execution_count": 173,
   "id": "716133d8-77ee-460d-98e6-ecbc2e984097",
   "metadata": {},
   "outputs": [
    {
     "name": "stdout",
     "output_type": "stream",
     "text": [
      "0.6572429085477256\n",
      "0.36528990553137963\n"
     ]
    }
   ],
   "source": [
    "print(cohen_kappa_score(y_train,y_pred_train_class))\n",
    "print(cohen_kappa_score(y_test,y_pred_test_class))"
   ]
  },
  {
   "cell_type": "code",
   "execution_count": 155,
   "id": "b0218c85-2dbe-4b6e-ae30-ef0b240a7c9f",
   "metadata": {},
   "outputs": [
    {
     "data": {
      "text/plain": [
       "array([[2750,  474],\n",
       "       [ 880, 2077]], dtype=int64)"
      ]
     },
     "execution_count": 155,
     "metadata": {},
     "output_type": "execute_result"
    }
   ],
   "source": [
    "confusion_matrix(y_train,y_pred_train_class)"
   ]
  },
  {
   "cell_type": "code",
   "execution_count": 127,
   "id": "d5f0d9dd-3006-4ad0-86aa-2e05fbdf38d6",
   "metadata": {},
   "outputs": [
    {
     "data": {
      "text/plain": [
       "array([[625, 181],\n",
       "       [362, 378]], dtype=int64)"
      ]
     },
     "execution_count": 127,
     "metadata": {},
     "output_type": "execute_result"
    }
   ],
   "source": [
    "confusion_matrix(y_test,y_pred_test_class)"
   ]
  },
  {
   "cell_type": "code",
   "execution_count": null,
   "id": "a45723cd-6b29-4dc2-a5ff-3418f608f3e8",
   "metadata": {},
   "outputs": [],
   "source": []
  }
 ],
 "metadata": {
  "kernelspec": {
   "display_name": "Python 3 (ipykernel)",
   "language": "python",
   "name": "python3"
  },
  "language_info": {
   "codemirror_mode": {
    "name": "ipython",
    "version": 3
   },
   "file_extension": ".py",
   "mimetype": "text/x-python",
   "name": "python",
   "nbconvert_exporter": "python",
   "pygments_lexer": "ipython3",
   "version": "3.9.13"
  }
 },
 "nbformat": 4,
 "nbformat_minor": 5
}
