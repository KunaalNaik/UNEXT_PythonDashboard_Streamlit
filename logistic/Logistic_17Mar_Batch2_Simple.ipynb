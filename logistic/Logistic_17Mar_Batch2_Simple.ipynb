{
 "cells": [
  {
   "cell_type": "markdown",
   "id": "5d7c3ad5-4484-4352-ba26-cc84576bed84",
   "metadata": {},
   "source": [
    "# Import Packages"
   ]
  },
  {
   "cell_type": "code",
   "execution_count": 1,
   "id": "ab1b804a-2717-4fa5-8875-66d2648bf6f3",
   "metadata": {},
   "outputs": [],
   "source": [
    "import pandas as pd\n",
    "import numpy as np\n",
    "\n",
    "from sklearn.model_selection import train_test_split\n",
    "\n",
    "from sklearn.preprocessing import StandardScaler\n",
    "\n",
    "from sklearn.linear_model import LinearRegression\n",
    "\n",
    "from sklearn.metrics import r2_score, mean_squared_error, mean_absolute_percentage_error"
   ]
  },
  {
   "cell_type": "markdown",
   "id": "b002b75f-5e7b-4859-ac65-2449800e8170",
   "metadata": {},
   "source": [
    "# Import Data"
   ]
  },
  {
   "cell_type": "code",
   "execution_count": null,
   "id": "f0b8d3b7-244a-4b18-95d2-0cf68478bf64",
   "metadata": {},
   "outputs": [],
   "source": []
  },
  {
   "cell_type": "markdown",
   "id": "a0141da8-707a-4454-ab53-95396bc673f0",
   "metadata": {},
   "source": [
    "# Data Understanding \n",
    "- Missing Values\n",
    "- Data Types\n",
    "- Shape"
   ]
  },
  {
   "cell_type": "code",
   "execution_count": null,
   "id": "0ae65d75-1a61-4c4d-81b5-096390add4d3",
   "metadata": {},
   "outputs": [],
   "source": []
  },
  {
   "cell_type": "markdown",
   "id": "ff5f42d6-ecdb-46ad-a274-7a1b22cf7847",
   "metadata": {},
   "source": [
    "# Idendify Numerical and Categorical features"
   ]
  },
  {
   "cell_type": "code",
   "execution_count": null,
   "id": "43acf0f6-8753-4ce5-9ef7-35f1b7b2a35c",
   "metadata": {},
   "outputs": [],
   "source": [
    "numerical_features\n",
    "categorical_features"
   ]
  },
  {
   "cell_type": "code",
   "execution_count": null,
   "id": "78aaa395-24c2-4e6d-966c-2e00309b40e7",
   "metadata": {},
   "outputs": [],
   "source": []
  },
  {
   "cell_type": "markdown",
   "id": "e9c85cdc-4c20-451b-9ccc-94e8d2c8a100",
   "metadata": {},
   "source": [
    "# Partition into X and y"
   ]
  },
  {
   "cell_type": "code",
   "execution_count": null,
   "id": "c5163f0b-1bc7-4472-9788-b1cbbe2e5d6b",
   "metadata": {},
   "outputs": [],
   "source": []
  },
  {
   "cell_type": "markdown",
   "id": "4c29cd13-591d-4ff6-9d5d-8d1697942b44",
   "metadata": {},
   "source": [
    "# Split into Train Test"
   ]
  },
  {
   "cell_type": "code",
   "execution_count": null,
   "id": "37d4e509-2415-4447-81a8-3a2c451bf865",
   "metadata": {},
   "outputs": [],
   "source": []
  },
  {
   "cell_type": "markdown",
   "id": "de549fa0-7e0c-47a5-984c-3eb1056e06d6",
   "metadata": {},
   "source": [
    "# Preprocessing\n",
    "- Missing Value Treatment\n",
    "- Outlier Treatment\n",
    "- Numerical Tranformation\n",
    "- Categorical Encoding\n",
    "- ** Feature Selection, Dimentionality Reduction"
   ]
  },
  {
   "cell_type": "code",
   "execution_count": null,
   "id": "c1f59829-755e-4475-a2ec-082446f2049a",
   "metadata": {},
   "outputs": [],
   "source": []
  },
  {
   "cell_type": "markdown",
   "id": "cdfab03b-66fe-4b2f-aaa7-ba1f77e1533c",
   "metadata": {},
   "source": [
    "# Numerical Treatment"
   ]
  },
  {
   "cell_type": "code",
   "execution_count": null,
   "id": "5b46a751-bc33-46f1-9e3b-d58c21551362",
   "metadata": {},
   "outputs": [],
   "source": []
  },
  {
   "cell_type": "markdown",
   "id": "fb0f02d1-7876-4523-ac10-bde0f1e4ffff",
   "metadata": {},
   "source": [
    "# Categorical Treatment"
   ]
  },
  {
   "cell_type": "code",
   "execution_count": null,
   "id": "b35498d1-1f19-40a6-a976-50daa0d7ddc6",
   "metadata": {},
   "outputs": [],
   "source": []
  },
  {
   "cell_type": "markdown",
   "id": "c8f02591-1077-459a-ae65-9bc05ff5c8c9",
   "metadata": {},
   "source": [
    "# Model"
   ]
  },
  {
   "cell_type": "code",
   "execution_count": null,
   "id": "11e197d2-7e40-42f6-af44-b9ae9e0e4895",
   "metadata": {},
   "outputs": [],
   "source": []
  },
  {
   "cell_type": "markdown",
   "id": "792ecad2-9d98-4bcf-9c71-70eefe60ace8",
   "metadata": {},
   "source": [
    "# Predictions"
   ]
  },
  {
   "cell_type": "code",
   "execution_count": null,
   "id": "222f8a58-e61c-4a4b-a222-193bf8265dc9",
   "metadata": {},
   "outputs": [],
   "source": []
  },
  {
   "cell_type": "markdown",
   "id": "04d7440b-97f7-4919-84e5-d6ffba595038",
   "metadata": {},
   "source": [
    "# Performance Metrics"
   ]
  },
  {
   "cell_type": "code",
   "execution_count": null,
   "id": "dd083471-9a6f-4bdc-9704-7b93f57f0fa0",
   "metadata": {},
   "outputs": [],
   "source": []
  }
 ],
 "metadata": {
  "kernelspec": {
   "display_name": "Python 3 (ipykernel)",
   "language": "python",
   "name": "python3"
  },
  "language_info": {
   "codemirror_mode": {
    "name": "ipython",
    "version": 3
   },
   "file_extension": ".py",
   "mimetype": "text/x-python",
   "name": "python",
   "nbconvert_exporter": "python",
   "pygments_lexer": "ipython3",
   "version": "3.9.13"
  }
 },
 "nbformat": 4,
 "nbformat_minor": 5
}
